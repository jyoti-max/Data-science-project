 {
   "cell_type": "markdown",
   "metadata": {},
   "source": [
    "<a href=\"https://www.bigdatauniversity.com\"><img src = \"https://s3-api.us-geo.objectstorage.softlayer.net/cf-courses-data/CognitiveClass/DA0101EN/Images/CCLog.png\" width = 300, align = \"center\"></a>\n",
    "\n",
    "<h1 align=center><font size=5>Data Analysis with Python</font></h1>"
   ]
  },
  {
   "cell_type": "markdown",
   "metadata": {},
   "source": [
    "<h1>Module 4: Model Development</h1>"
   ]
  },
  {
   "cell_type": "markdown",
   "metadata": {},
   "source": [
    "<p>In this section, we will develop several models that will predict the price of the car using the variables or features. This is just an estimate but should give us an objective idea of how much the car should cost.</p>"
   ]
  },
  {
   "cell_type": "markdown",
   "metadata": {},
   "source": [
    "Some questions we want to ask in this module\n",
    "<ul>\n",
    "    <li>do I know if the dealer is offering fair value for my trade-in?</li>\n",
    "    <li>do I know if I put a fair value on my car?</li>\n",
    "</ul>\n",
    "<p>Data Analytics, we often use <b>Model Development</b> to help us predict future observations from the data we have.</p>\n",
    "\n",
    "<p>A Model will help us understand the exact relationship between different variables and how these variables are used to predict the result.</p>"
   ]
  },
  {
   "cell_type": "markdown",
   "metadata": {},
   "source": [
    "<h4>Setup</h4>"
   ]
  },
  {
   "cell_type": "markdown",
   "metadata": {},
   "source": [
    " Import libraries"
   ]
  },
  {
   "cell_type": "code",
   "execution_count": 1,
   "metadata": {
    "collapsed": false,
    "jupyter": {
     "outputs_hidden": false
    }
   },
   "outputs": [],
   "source": [
    "import pandas as pd\n",
    "import numpy as np\n",
    "import matplotlib.pyplot as plt"
   ]
  },
  {
   "cell_type": "markdown",
   "metadata": {},
   "source": [
    "load data and store in dataframe df:"
   ]
  },
  {
   "cell_type": "markdown",
   "metadata": {},
   "source": [
    "This dataset was hosted on IBM Cloud object click <a href=\"https://cocl.us/DA101EN_object_storage\">HERE</a> for free storage."
   ]
  },
  {
   "cell_type": "code",
   "execution_count": 2,
   "metadata": {
    "collapsed": false,
    "jupyter": {
     "outputs_hidden": false
    }
   },
   "outputs": [
    {
     "data": {
      "text/html": [
       "<div>\n",
       "<style scoped>\n",
       "    .dataframe tbody tr th:only-of-type {\n",
       "        vertical-align: middle;\n",
       "    }\n",
       "\n",
       "    .dataframe tbody tr th {\n",
       "        vertical-align: top;\n",
       "    }\n",
       "\n",
       "    .dataframe thead th {\n",
       "        text-align: right;\n",
       "    }\n",
       "</style>\n",
       "<table border=\"1\" class=\"dataframe\">\n",
       "  <thead>\n",
       "    <tr style=\"text-align: right;\">\n",
       "      <th></th>\n",
       "      <th>symboling</th>\n",
       "      <th>normalized-losses</th>\n",
       "      <th>make</th>\n",
       "      <th>aspiration</th>\n",
       "      <th>num-of-doors</th>\n",
       "      <th>body-style</th>\n",
       "      <th>drive-wheels</th>\n",
       "      <th>engine-location</th>\n",
       "      <th>wheel-base</th>\n",
       "      <th>length</th>\n",
       "      <th>...</th>\n",
       "      <th>compression-ratio</th>\n",
       "      <th>horsepower</th>\n",
       "      <th>peak-rpm</th>\n",
       "      <th>city-mpg</th>\n",
       "      <th>highway-mpg</th>\n",
       "      <th>price</th>\n",
       "      <th>city-L/100km</th>\n",
       "      <th>horsepower-binned</th>\n",
       "      <th>diesel</th>\n",
       "      <th>gas</th>\n",
       "    </tr>\n",
       "  </thead>\n",
       "  <tbody>\n",
       "    <tr>\n",
       "      <th>0</th>\n",
       "      <td>3</td>\n",
       "      <td>122</td>\n",
       "      <td>alfa-romero</td>\n",
       "      <td>std</td>\n",
       "      <td>two</td>\n",
       "      <td>convertible</td>\n",
       "      <td>rwd</td>\n",
       "      <td>front</td>\n",
       "      <td>88.6</td>\n",
       "      <td>0.811148</td>\n",
       "      <td>...</td>\n",
       "      <td>9.0</td>\n",
       "      <td>111.0</td>\n",
       "      <td>5000.0</td>\n",
       "      <td>21</td>\n",
       "      <td>27</td>\n",
       "      <td>13495.0</td>\n",
       "      <td>11.190476</td>\n",
       "      <td>Medium</td>\n",
       "      <td>0</td>\n",
       "      <td>1</td>\n",
       "    </tr>\n",
       "    <tr>\n",
       "      <th>1</th>\n",
       "      <td>3</td>\n",
       "      <td>122</td>\n",
       "      <td>alfa-romero</td>\n",
       "      <td>std</td>\n",
       "      <td>two</td>\n",
       "      <td>convertible</td>\n",
       "      <td>rwd</td>\n",
       "      <td>front</td>\n",
       "      <td>88.6</td>\n",
       "      <td>0.811148</td>\n",
       "      <td>...</td>\n",
       "      <td>9.0</td>\n",
       "      <td>111.0</td>\n",
       "      <td>5000.0</td>\n",
       "      <td>21</td>\n",
       "      <td>27</td>\n",
       "      <td>16500.0</td>\n",
       "      <td>11.190476</td>\n",
       "      <td>Medium</td>\n",
       "      <td>0</td>\n",
       "      <td>1</td>\n",
       "    </tr>\n",
       "    <tr>\n",
       "      <th>2</th>\n",
       "      <td>1</td>\n",
       "      <td>122</td>\n",
       "      <td>alfa-romero</td>\n",
       "      <td>std</td>\n",
       "      <td>two</td>\n",
       "      <td>hatchback</td>\n",
       "      <td>rwd</td>\n",
       "      <td>front</td>\n",
       "      <td>94.5</td>\n",
       "      <td>0.822681</td>\n",
       "      <td>...</td>\n",
       "      <td>9.0</td>\n",
       "      <td>154.0</td>\n",
       "      <td>5000.0</td>\n",
       "      <td>19</td>\n",
       "      <td>26</td>\n",
       "      <td>16500.0</td>\n",
       "      <td>12.368421</td>\n",
       "      <td>Medium</td>\n",
       "      <td>0</td>\n",
       "      <td>1</td>\n",
       "    </tr>\n",
       "    <tr>\n",
       "      <th>3</th>\n",
       "      <td>2</td>\n",
       "      <td>164</td>\n",
       "      <td>audi</td>\n",
       "      <td>std</td>\n",
       "      <td>four</td>\n",
       "      <td>sedan</td>\n",
       "      <td>fwd</td>\n",
       "      <td>front</td>\n",
       "      <td>99.8</td>\n",
       "      <td>0.848630</td>\n",
       "      <td>...</td>\n",
       "      <td>10.0</td>\n",
       "      <td>102.0</td>\n",
       "      <td>5500.0</td>\n",
       "      <td>24</td>\n",
       "      <td>30</td>\n",
       "      <td>13950.0</td>\n",
       "      <td>9.791667</td>\n",
       "      <td>Medium</td>\n",
       "      <td>0</td>\n",
       "      <td>1</td>\n",
       "    </tr>\n",
       "    <tr>\n",
       "      <th>4</th>\n",
       "      <td>2</td>\n",
       "      <td>164</td>\n",
       "      <td>audi</td>\n",
       "      <td>std</td>\n",
       "      <td>four</td>\n",
       "      <td>sedan</td>\n",
       "      <td>4wd</td>\n",
       "      <td>front</td>\n",
       "      <td>99.4</td>\n",
       "      <td>0.848630</td>\n",
       "      <td>...</td>\n",
       "      <td>8.0</td>\n",
       "      <td>115.0</td>\n",
       "      <td>5500.0</td>\n",
       "      <td>18</td>\n",
       "      <td>22</td>\n",
       "      <td>17450.0</td>\n",
       "      <td>13.055556</td>\n",
       "      <td>Medium</td>\n",
       "      <td>0</td>\n",
       "      <td>1</td>\n",
       "    </tr>\n",
       "  </tbody>\n",
       "</table>\n",
       "<p>5 rows × 29 columns</p>\n",
       "</div>"
      ],
      "text/plain": [
       "   symboling  normalized-losses         make aspiration num-of-doors  \\\n",
       "0          3                122  alfa-romero        std          two   \n",
       "1          3                122  alfa-romero        std          two   \n",
       "2          1                122  alfa-romero        std          two   \n",
       "3          2                164         audi        std         four   \n",
       "4          2                164         audi        std         four   \n",
       "\n",
       "    body-style drive-wheels engine-location  wheel-base    length  ...  \\\n",
       "0  convertible          rwd           front        88.6  0.811148  ...   \n",
       "1  convertible          rwd           front        88.6  0.811148  ...   \n",
       "2    hatchback          rwd           front        94.5  0.822681  ...   \n",
       "3        sedan          fwd           front        99.8  0.848630  ...   \n",
       "4        sedan          4wd           front        99.4  0.848630  ...   \n",
       "\n",
       "   compression-ratio  horsepower  peak-rpm city-mpg highway-mpg    price  \\\n",
       "0                9.0       111.0    5000.0       21          27  13495.0   \n",
       "1                9.0       111.0    5000.0       21          27  16500.0   \n",
       "2                9.0       154.0    5000.0       19          26  16500.0   \n",
       "3               10.0       102.0    5500.0       24          30  13950.0   \n",
       "4                8.0       115.0    5500.0       18          22  17450.0   \n",
       "\n",
       "  city-L/100km  horsepower-binned  diesel  gas  \n",
       "0    11.190476             Medium       0    1  \n",
       "1    11.190476             Medium       0    1  \n",
       "2    12.368421             Medium       0    1  \n",
       "3     9.791667             Medium       0    1  \n",
       "4    13.055556             Medium       0    1  \n",
       "\n",
       "[5 rows x 29 columns]"
      ]
     },
     "execution_count": 2,
     "metadata": {},
     "output_type": "execute_result"
    }
   ],
   "source": [
    "# path of data \n",
    "path = 'https://s3-api.us-geo.objectstorage.softlayer.net/cf-courses-data/CognitiveClass/DA0101EN/automobileEDA.csv'\n",
    "df = pd.read_csv(path)\n",
    "df.head()"
   ]
  },
  {
   "cell_type": "markdown",
   "metadata": {},
   "source": [
    "<h3>1. Linear Regression and Multiple Linear Regression</h3>"
   ]
  },
  {
   "cell_type": "markdown",
   "metadata": {},
   "source": [
    "<h4>Linear Regression</h4>"
   ]
  },
  {
   "cell_type": "markdown",
   "metadata": {},
   "source": [
    "\n",
    "<p>One example of a Data  Model that we will be using is</p>\n",
    "<b>Simple Linear Regression</b>.\n",
    "\n",
    "<br>\n",
    "<p>Simple Linear Regression is a method to help us understand the relationship between two variables:</p>\n",
    "<ul>\n",
    "    <li>The predictor/independent variable (X)</li>\n",
    "    <li>The response/dependent variable (that we want to predict)(Y)</li>\n",
    "</ul>\n",
    "\n",
    "<p>The result of Linear Regression is a <b>linear function</b> that predicts the response (dependent) variable as a function of the predictor (independent) variable.</p>\n",
    "\n"
   ]
  },
  {
   "cell_type": "markdown",
   "metadata": {},
   "source": [
    "$$\n",
    " Y: Response \\ Variable\\\\\n",
    " X: Predictor \\ Variables\n",
    "$$\n"
   ]
  },
  {
   "cell_type": "markdown",
   "metadata": {},
   "source": [
    " <b>Linear function:</b>\n",
    "$$\n",
    "Yhat = a + b  X\n",
    "$$"
   ]
  },
  {
   "cell_type": "markdown",
   "metadata": {},
   "source": [
    "<ul>\n",
    "    <li>a refers to the <b>intercept</b> of the regression line0, in other words: the value of Y when X is 0</li>\n",
    "    <li>b refers to the <b>slope</b> of the regression line, in other words: the value with which Y changes when X increases by 1 unit</li>\n",
    "</ul>"
   ]
  },
  {
   "cell_type": "markdown",
   "metadata": {},
   "source": [
    "<h4>Lets load the modules for linear regression</h4>"
   ]
  },
  {
   "cell_type": "code",
   "execution_count": 3,
   "metadata": {
    "collapsed": false,
    "jupyter": {
     "outputs_hidden": false
    }
   },
   "outputs": [],
   "source": [
    "from sklearn.linear_model import LinearRegression"
   ]
  },
  {
   "cell_type": "markdown",
   "metadata": {},
   "source": [
    "<h4>Create the linear regression object</h4>"
   ]
  },
  {
   "cell_type": "code",
   "execution_count": 4,
   "metadata": {
    "collapsed": false,
    "jupyter": {
     "outputs_hidden": false
    }
   },
   "outputs": [
    {
     "data": {
      "text/plain": [
       "LinearRegression(copy_X=True, fit_intercept=True, n_jobs=None,\n",
       "         normalize=False)"
      ]
     },
     "execution_count": 4,
     "metadata": {},
     "output_type": "execute_result"
    }
   ],
   "source": [
    "lm = LinearRegression()\n",
    "lm"
   ]
  },
  {
   "cell_type": "markdown",
   "metadata": {},
   "source": [
    "<h4>How could Highway-mpg help us predict car price?</h4>"
   ]
  },
  {
   "cell_type": "markdown",
   "metadata": {},
   "source": [
    "For this example, we want to look at how highway-mpg can help us predict car price.\n",
    "Using simple linear regression, we will create a linear function with \"highway-mpg\" as the predictor variable and the \"price\" as the response variable."
   ]
  },
  {
   "cell_type": "code",
   "execution_count": 5,
   "metadata": {
    "collapsed": false,
    "jupyter": {
     "outputs_hidden": false
    }
   },
   "outputs": [],
   "source": [
    "X = df[['highway-mpg']]\n",
    "Y = df['price']"
   ]
  },
  {
   "cell_type": "markdown",
   "metadata": {},
   "source": [
    "Fit the linear model using highway-mpg."
   ]
  },
  {
   "cell_type": "code",
   "execution_count": 6,
   "metadata": {
    "collapsed": false,
    "jupyter": {
     "outputs_hidden": false
    }
   },
   "outputs": [
    {
     "data": {
      "text/plain": [
       "LinearRegression(copy_X=True, fit_intercept=True, n_jobs=None,\n",
       "         normalize=False)"
      ]
     },
     "execution_count": 6,
     "metadata": {},
     "output_type": "execute_result"
    }
   ],
   "source": [
    "lm.fit(X,Y)"
   ]
  },
  {
   "cell_type": "markdown",
   "metadata": {},
   "source": [
    " We can output a prediction "
   ]
  },
  {
   "cell_type": "code",
   "execution_count": 7,
   "metadata": {
    "collapsed": false,
    "jupyter": {
     "outputs_hidden": false
    }
   },
   "outputs": [
    {
     "data": {
      "text/plain": [
       "array([16236.50464347, 16236.50464347, 17058.23802179, 13771.3045085 ,\n",
       "       20345.17153508])"
      ]
     },
     "execution_count": 7,
     "metadata": {},
     "output_type": "execute_result"
    }
   ],
   "source": [
    "Yhat=lm.predict(X)\n",
    "Yhat[0:5]   "
   ]
  },
  {
   "cell_type": "markdown",
   "metadata": {},
   "source": [
    "<h4>What is the value of the intercept (a)?</h4>"
   ]
  },
  {
   "cell_type": "code",
   "execution_count": 8,
   "metadata": {
    "collapsed": false,
    "jupyter": {
     "outputs_hidden": false
    }
   },
   "outputs": [
    {
     "data": {
      "text/plain": [
       "38423.3058581574"
      ]
     },
     "execution_count": 8,
     "metadata": {},
     "output_type": "execute_result"
    }
   ],
   "source": [
    "lm.intercept_"
   ]
  },
  {
   "cell_type": "markdown",
   "metadata": {},
   "source": [
    "<h4>What is the value of the Slope (b)?</h4>"
   ]
  },
  {
   "cell_type": "code",
   "execution_count": 9,
   "metadata": {
    "collapsed": false,
    "jupyter": {
     "outputs_hidden": false
    },
    "scrolled": true
   },
   "outputs": [
    {
     "data": {
      "text/plain": [
       "array([-821.73337832])"
      ]
     },
     "execution_count": 9,
     "metadata": {},
     "output_type": "execute_result"
    }
   ],
   "source": [
    "lm.coef_"
   ]
  },
  {
   "cell_type": "markdown",
   "metadata": {},
   "source": [
    "<h3>What is the final estimated linear model we get?</h3>"
   ]
  },
  {
   "cell_type": "markdown",
   "metadata": {},
   "source": [
    "As we saw above, we should get a final linear model with the structure:"
   ]
  },
  {
   "cell_type": "markdown",
   "metadata": {},
   "source": [
    "$$\n",
    "Yhat = a + b  X\n",
    "$$"
   ]
  },
  {
   "cell_type": "markdown",
   "metadata": {},
   "source": [
    "Plugging in the actual values we get:"
   ]
  },
  {
   "cell_type": "markdown",
   "metadata": {},
   "source": [
    "<b>price</b> = 38423.31 - 821.73 x  <b>highway-mpg</b>"
   ]
  },
  {
   "cell_type": "markdown",
   "metadata": {},
   "source": [
    "<div class=\"alert alert-danger alertdanger\" style=\"margin-top: 20px\">\n",
    "<h1>Question #1 a): </h1>\n",
    "\n",
    "<b>Create a linear regression object?</b>\n",
    "</div>"
   ]
  },
  {
   "cell_type": "code",
   "execution_count": 10,
   "metadata": {
    "collapsed": false,
    "jupyter": {
     "outputs_hidden": false
    }
   },
   "outputs": [
    {
     "data": {
      "text/plain": [
       "LinearRegression(copy_X=True, fit_intercept=True, n_jobs=None,\n",
       "         normalize=False)"
      ]
     },
     "execution_count": 10,
     "metadata": {},
     "output_type": "execute_result"
    }
   ],
   "source": [
    "# Write your code below and press Shift+Enter to execute \n",
    "lr=LinearRegression()\n",
    "lr"
   ]
  },
  {
   "cell_type": "markdown",
   "metadata": {},
   "source": [
    "Double-click <b>here</b> for the solution.\n",
    "\n",
    "<!-- The answer is below:\n",
    "\n",
    "lm1 = LinearRegression()\n",
    "lm1 \n",
    "\n",
    "-->"
   ]
  },
  {
   "cell_type": "markdown",
   "metadata": {},
   "source": [
    "<div class=\"alert alert-danger alertdanger\" style=\"margin-top: 20px\">\n",
    "<h1> Question #1 b): </h1>\n",
    "\n",
    "<b>Train the model using 'engine-size' as the independent variable and 'price' as the dependent variable?</b>\n",
    "</div>"
   ]
  },
  {
   "cell_type": "code",
   "execution_count": 11,
   "metadata": {
    "collapsed": false,
    "jupyter": {
     "outputs_hidden": false
    }
   },
   "outputs": [],
   "source": [
    "# Write your code below and press Shift+Enter to execute \n",
    "X=df[['engine-size']]\n",
    "Y=df['price']"
   ]
  },
  {
   "cell_type": "markdown",
   "metadata": {},
   "source": [
    "Double-click <b>here</b> for the solution.\n",
    "\n",
    "<!-- The answer is below:\n",
    "\n",
    "lm1.fit(df[['highway-mpg']], df[['price']])\n",
    "lm1\n",
    "\n",
    "-->\n"
   ]
  },
  {
   "cell_type": "markdown",
   "metadata": {},
   "source": [
    "<div class=\"alert alert-danger alertdanger\" style=\"margin-top: 20px\">\n",
    "<h1>Question #1 c):</h1>\n",
    "\n",
    "<b>Find the slope and intercept of the model?</b>\n",
    "</div>"
   ]
  },
  {
   "cell_type": "markdown",
   "metadata": {},
   "source": [
    "<h4>Slope</h4>"
   ]
  },
  {
   "cell_type": "code",
   "execution_count": 15,
   "metadata": {
    "collapsed": false,
    "jupyter": {
     "outputs_hidden": false
    }
   },
   "outputs": [
    {
     "data": {
      "text/plain": [
       "array([166.86001569])"
      ]
     },
     "execution_count": 15,
     "metadata": {},
     "output_type": "execute_result"
    }
   ],
   "source": [
    "# Write your code below and press Shift+Enter to execute \n",
    "lr.fit(X,Y)\n",
    "lr.coef_"
   ]
  },
  {
   "cell_type": "markdown",
   "metadata": {},
   "source": [
    "<h4>Intercept</h4>"
   ]
  },
  {
   "cell_type": "code",
   "execution_count": 14,
   "metadata": {
    "collapsed": false,
    "jupyter": {
     "outputs_hidden": false
    }
   },
   "outputs": [
    {
     "data": {
      "text/plain": [
       "-7963.338906281042"
      ]
     },
     "execution_count": 14,
     "metadata": {},
     "output_type": "execute_result"
    }
   ],
   "source": [
    "# Write your code below and press Shift+Enter to execute \n",
    "lr.intercept_"
   ]
  },
  {
   "cell_type": "markdown",
   "metadata": {},
   "source": [
    "Double-click <b>here</b> for the solution.\n",
    "\n",
    "<!-- The answer is below:\n",
    "\n",
    "# Slope \n",
    "lm1.coef_\n",
    "# Intercept\n",
    "lm1.intercept_\n",
    "\n",
    "-->"
   ]
  },
  {
   "cell_type": "markdown",
   "metadata": {},
   "source": [
    "<div class=\"alert alert-danger alertdanger\" style=\"margin-top: 20px\">\n",
    "<h1>Question #1 d): </h1>\n",
    "\n",
    "<b>What is the equation of the predicted line. You can use x and yhat or 'engine-size' or 'price'?</b>\n",
    "</div>"
   ]
  },
  {
   "cell_type": "markdown",
   "metadata": {},
   "source": [
    "# You can type you answer here\n"
   ]
  },
  {
   "cell_type": "code",
   "execution_count": 19,
   "metadata": {},
   "outputs": [
    {
     "data": {
      "text/html": [
       "<div>\n",
       "<style scoped>\n",
       "    .dataframe tbody tr th:only-of-type {\n",
       "        vertical-align: middle;\n",
       "    }\n",
       "\n",
       "    .dataframe tbody tr th {\n",
       "        vertical-align: top;\n",
       "    }\n",
       "\n",
       "    .dataframe thead th {\n",
       "        text-align: right;\n",
       "    }\n",
       "</style>\n",
       "<table border=\"1\" class=\"dataframe\">\n",
       "  <thead>\n",
       "    <tr style=\"text-align: right;\">\n",
       "      <th></th>\n",
       "      <th>engine-size</th>\n",
       "    </tr>\n",
       "  </thead>\n",
       "  <tbody>\n",
       "    <tr>\n",
       "      <th>0</th>\n",
       "      <td>13728.46</td>\n",
       "    </tr>\n",
       "    <tr>\n",
       "      <th>1</th>\n",
       "      <td>13728.46</td>\n",
       "    </tr>\n",
       "    <tr>\n",
       "      <th>2</th>\n",
       "      <td>17399.38</td>\n",
       "    </tr>\n",
       "    <tr>\n",
       "      <th>3</th>\n",
       "      <td>10224.40</td>\n",
       "    </tr>\n",
       "    <tr>\n",
       "      <th>4</th>\n",
       "      <td>14729.62</td>\n",
       "    </tr>\n",
       "    <tr>\n",
       "      <th>...</th>\n",
       "      <td>...</td>\n",
       "    </tr>\n",
       "    <tr>\n",
       "      <th>196</th>\n",
       "      <td>15563.92</td>\n",
       "    </tr>\n",
       "    <tr>\n",
       "      <th>197</th>\n",
       "      <td>15563.92</td>\n",
       "    </tr>\n",
       "    <tr>\n",
       "      <th>198</th>\n",
       "      <td>20903.44</td>\n",
       "    </tr>\n",
       "    <tr>\n",
       "      <th>199</th>\n",
       "      <td>16231.36</td>\n",
       "    </tr>\n",
       "    <tr>\n",
       "      <th>200</th>\n",
       "      <td>15563.92</td>\n",
       "    </tr>\n",
       "  </tbody>\n",
       "</table>\n",
       "<p>201 rows × 1 columns</p>\n",
       "</div>"
      ],
      "text/plain": [
       "     engine-size\n",
       "0       13728.46\n",
       "1       13728.46\n",
       "2       17399.38\n",
       "3       10224.40\n",
       "4       14729.62\n",
       "..           ...\n",
       "196     15563.92\n",
       "197     15563.92\n",
       "198     20903.44\n",
       "199     16231.36\n",
       "200     15563.92\n",
       "\n",
       "[201 rows x 1 columns]"
      ]
     },
     "execution_count": 19,
     "metadata": {},
     "output_type": "execute_result"
    }
   ],
   "source": [
    "Yhat=-7963.34 + 166.86*X\n",
    "\n",
    "Price=-7963.34 + 166.86*df[['engine-size']]\n",
    "Price"
   ]
  },
  {
   "cell_type": "markdown",
   "metadata": {},
   "source": [
    "Double-click <b>here</b> for the solution.\n",
    "\n",
    "<!-- The answer is below:\n",
    "\n",
    "# using X and Y  \n",
    "Yhat=-7963.34 + 166.86*X\n",
    "\n",
    "Price=-7963.34 + 166.86*engine-size\n",
    "\n",
    "-->"
   ]
  },
  {
   "cell_type": "markdown",
   "metadata": {},
   "source": [
    "<h4>Multiple Linear Regression</h4>"
   ]
  },
  {
   "cell_type": "markdown",
   "metadata": {},
   "source": [
    "<p>What if we want to predict car price using more than one variable?</p>\n",
    "\n",
    "<p>If we want to use more variables in our model to predict car price, we can use <b>Multiple Linear Regression</b>.\n",
    "Multiple Linear Regression is very similar to Simple Linear Regression, but this method is used to explain the relationship between one continuous response (dependent) variable and <b>two or more</b> predictor (independent) variables.\n",
    "Most of the real-world regression models involve multiple predictors. We will illustrate the structure by using four predictor variables, but these results can generalize to any integer:</p>"
   ]
  },
  {
   "cell_type": "markdown",
   "metadata": {},
   "source": [
    "$$\n",
    "Y: Response \\ Variable\\\\\n",
    "X_1 :Predictor\\ Variable \\ 1\\\\\n",
    "X_2: Predictor\\ Variable \\ 2\\\\\n",
    "X_3: Predictor\\ Variable \\ 3\\\\\n",
    "X_4: Predictor\\ Variable \\ 4\\\\\n",
    "$$"
   ]
  },
  {
   "cell_type": "markdown",
   "metadata": {},
   "source": [
    "$$\n",
    "a: intercept\\\\\n",
    "b_1 :coefficients \\ of\\ Variable \\ 1\\\\\n",
    "b_2: coefficients \\ of\\ Variable \\ 2\\\\\n",
    "b_3: coefficients \\ of\\ Variable \\ 3\\\\\n",
    "b_4: coefficients \\ of\\ Variable \\ 4\\\\\n",
    "$$"
   ]
  },
  {
   "cell_type": "markdown",
   "metadata": {},
   "source": [
    "The equation is given by"
   ]
  },
  {
   "cell_type": "markdown",
   "metadata": {},
   "source": [
    "$$\n",
    "Yhat = a + b_1 X_1 + b_2 X_2 + b_3 X_3 + b_4 X_4\n",
    "$$"
   ]
  },
  {
   "cell_type": "markdown",
   "metadata": {},
   "source": [
    "<p>From the previous section  we know that other good predictors of price could be:</p>\n",
    "<ul>\n",
    "    <li>Horsepower</li>\n",
    "    <li>Curb-weight</li>\n",
    "    <li>Engine-size</li>\n",
    "    <li>Highway-mpg</li>\n",
    "</ul>\n",
    "Let's develop a model using these variables as the predictor variables."
   ]
  },
  {
   "cell_type": "code",
   "execution_count": 20,
   "metadata": {},
   "outputs": [],
   "source": [
    "Z = df[['horsepower', 'curb-weight', 'engine-size', 'highway-mpg']]"
   ]
  },
  {
   "cell_type": "markdown",
   "metadata": {},
   "source": [
    "Fit the linear model using the four above-mentioned variables."
   ]
  },
  {
   "cell_type": "code",
   "execution_count": 21,
   "metadata": {
    "collapsed": false,
    "jupyter": {
     "outputs_hidden": false
    }
   },
   "outputs": [
    {
     "data": {
      "text/plain": [
       "LinearRegression(copy_X=True, fit_intercept=True, n_jobs=None,\n",
       "         normalize=False)"
      ]
     },
     "execution_count": 21,
     "metadata": {},
     "output_type": "execute_result"
    }
   ],
   "source": [
    "lm.fit(Z, df['price'])"
   ]
  },
  {
   "cell_type": "markdown",
   "metadata": {},
   "source": [
    "What is the value of the intercept(a)?"
   ]
  },
  {
   "cell_type": "code",
   "execution_count": 22,
   "metadata": {
    "collapsed": false,
    "jupyter": {
     "outputs_hidden": false
    }
   },
   "outputs": [
    {
     "data": {
      "text/plain": [
       "-15806.62462632922"
      ]
     },
     "execution_count": 22,
     "metadata": {},
     "output_type": "execute_result"
    }
   ],
   "source": [
    "lm.intercept_"
   ]
  },
  {
   "cell_type": "markdown",
   "metadata": {},
   "source": [
    "What are the values of the coefficients (b1, b2, b3, b4)?"
   ]
  },
  {
   "cell_type": "code",
   "execution_count": 23,
   "metadata": {
    "collapsed": false,
    "jupyter": {
     "outputs_hidden": false
    }
   },
   "outputs": [
    {
     "data": {
      "text/plain": [
       "array([53.49574423,  4.70770099, 81.53026382, 36.05748882])"
      ]
     },
     "execution_count": 23,
     "metadata": {},
     "output_type": "execute_result"
    }
   ],
   "source": [
    "lm.coef_"
   ]
  },
  {
   "cell_type": "markdown",
   "metadata": {},
   "source": [
    " What is the final estimated linear model that we get?"
   ]
  },
  {
   "cell_type": "markdown",
   "metadata": {},
   "source": [
    "As we saw above, we should get a final linear function with the structure:\n",
    "\n",
    "$$\n",
    "Yhat = a + b_1 X_1 + b_2 X_2 + b_3 X_3 + b_4 X_4\n",
    "$$\n",
    "\n",
    "What is the linear function we get in this example?"
   ]
  },
  {
   "cell_type": "markdown",
   "metadata": {},
   "source": [
    "<b>Price</b> = -15678.742628061467 + 52.65851272 x <b>horsepower</b> + 4.69878948 x <b>curb-weight</b> + 81.95906216 x <b>engine-size</b> + 33.58258185 x <b>highway-mpg</b>"
   ]
  },
  {
   "cell_type": "markdown",
   "metadata": {},
   "source": [
    "<div class=\"alert alert-danger alertdanger\" style=\"margin-top: 20px\">\n",
    "<h1> Question  #2 a): </h1>\n",
    "Create and train a Multiple Linear Regression model \"lm2\" where the response variable is price, and the predictor variable is 'normalized-losses' and  'highway-mpg'.\n",
    "</div>"
   ]
  },
  {
   "cell_type": "code",
   "execution_count": 26,
   "metadata": {
    "collapsed": false,
    "jupyter": {
     "outputs_hidden": false
    }
   },
   "outputs": [
    {
     "data": {
      "text/plain": [
       "LinearRegression(copy_X=True, fit_intercept=True, n_jobs=None,\n",
       "         normalize=False)"
      ]
     },
     "execution_count": 26,
     "metadata": {},
     "output_type": "execute_result"
    }
   ],
   "source": [
    "# Write your code below and press Shift+Enter to execute \n",
    "lm2=LinearRegression()\n",
    "lm2.fit(df[['normalized-losses' , 'highway-mpg']],df['price'])"
   ]
  },
  {
   "cell_type": "markdown",
   "metadata": {},
   "source": [
    "Double-click <b>here</b> for the solution.\n",
    "\n",
    "<!-- The answer is below:\n",
    "\n",
    "lm2 = LinearRegression()\n",
    "lm2.fit(df[['normalized-losses' , 'highway-mpg']],df['price'])\n",
    "\n",
    "-->"
   ]
  },
  {
   "cell_type": "markdown",
   "metadata": {},
   "source": [
    "<div class=\"alert alert-danger alertdanger\" style=\"margin-top: 20px\">\n",
    "<h1>Question  #2 b): </h1>\n",
    "<b>Find the coefficient of the model?</b>\n",
    "</div>"
   ]
  },
  {
   "cell_type": "code",
   "execution_count": 27,
   "metadata": {},
   "outputs": [
    {
     "data": {
      "text/plain": [
       "array([   1.49789586, -820.45434016])"
      ]
     },
     "execution_count": 27,
     "metadata": {},
     "output_type": "execute_result"
    }
   ],
   "source": [
    "# Write your code below and press Shift+Enter to execute \n",
    "lm2.coef_"
   ]
  },
  {
   "cell_type": "markdown",
   "metadata": {},
   "source": [
    "Double-click <b>here</b> for the solution.\n",
    "\n",
    "<!-- The answer is below:\n",
    "\n",
    "lm2.coef_\n",
    "\n",
    "-->"
   ]
  },
  {
   "cell_type": "markdown",
   "metadata": {},
   "source": [
    "<h3>2)  Model Evaluation using Visualization</h3>"
   ]
  },
  {
   "cell_type": "markdown",
   "metadata": {},
   "source": [
    "Now that we've developed some models, how do we evaluate our models and how do we choose the best one? One way to do this is by using visualization."
   ]
  },
  {
   "cell_type": "markdown",
   "metadata": {},
   "source": [
    "import the visualization package: seaborn"
   ]
  },
  {
   "cell_type": "code",
   "execution_count": 28,
   "metadata": {},
   "outputs": [],
   "source": [
    "# import the visualization package: seaborn\n",
    "import seaborn as sns\n",
    "%matplotlib inline "
   ]
  },
  {
   "cell_type": "markdown",
   "metadata": {},
   "source": [
    "<h3>Regression Plot</h3>"
   ]
  },
  {
   "cell_type": "markdown",
   "metadata": {},
   "source": [
    "<p>When it comes to simple linear regression, an excellent way to visualize the fit of our model is by using <b>regression plots</b>.</p>\n",
    "\n",
    "<p>This plot will show a combination of a scattered data points (a <b>scatter plot</b>), as well as the fitted <b>linear regression</b> line going through the data. This will give us a reasonable estimate of the relationship between the two variables, the strength of the correlation, as well as the direction (positive or negative correlation).</p>"
   ]
  },
  {
   "cell_type": "markdown",
   "metadata": {},
   "source": [
    " Let's visualize Horsepower as potential predictor variable of price:"
   ]
  },
  {
   "cell_type": "code",
   "execution_count": 29,
   "metadata": {
    "collapsed": false,
    "jupyter": {
     "outputs_hidden": false
    }
   },
   "outputs": [
    {
     "data": {
      "text/plain": [
       "(0, 48297.06363866903)"
      ]
     },
     "execution_count": 29,
     "metadata": {},
     "output_type": "execute_result"
    },
    {
     "data": {
      "image/png": "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\n",
      "text/plain": [
       "<Figure size 864x720 with 1 Axes>"
      ]
     },
     "metadata": {
      "needs_background": "light"
     },
     "output_type": "display_data"
    }
   ],
   "source": [
    "width = 12\n",
    "height = 10\n",
    "plt.figure(figsize=(width, height))\n",
    "sns.regplot(x=\"highway-mpg\", y=\"price\", data=df)\n",
    "plt.ylim(0,)"
   ]
  },
  {
   "cell_type": "markdown",
   "metadata": {},
   "source": [
    "<p>We can see from this plot that price is negatively correlated to highway-mpg, since the regression slope is negative.\n",
    "One thing to keep in mind when looking at a regression plot is to pay attention to how scattered the data points are around the regression line. This will give you a good indication of the variance of the data, and whether a linear model would be the best fit or not. If the data is too far off from the line, this linear model might not be the best model for this data. Let's compare this plot to the regression plot of \"peak-rpm\".</p>"
   ]
  },
  {
   "cell_type": "code",
   "execution_count": 30,
   "metadata": {
    "collapsed": false,
    "jupyter": {
     "outputs_hidden": false
    }
   },
   "outputs": [
    {
     "data": {
      "text/plain": [
       "(0, 47422.919330307624)"
      ]
     },
     "execution_count": 30,
     "metadata": {},
     "output_type": "execute_result"
    },
    {
     "data": {
      "image/png": "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\n",
      "text/plain": [
       "<Figure size 864x720 with 1 Axes>"
      ]
     },
     "metadata": {
      "needs_background": "light"
     },
     "output_type": "display_data"
    }
   ],
   "source": [
    "plt.figure(figsize=(width, height))\n",
    "sns.regplot(x=\"peak-rpm\", y=\"price\", data=df)\n",
    "plt.ylim(0,)"
   ]
  },
  {
   "cell_type": "markdown",
   "metadata": {},
   "source": [
    "<p>Comparing the regression plot of \"peak-rpm\" and \"highway-mpg\" we see that the points for \"highway-mpg\" are much closer to the generated line and on the average decrease. The points for \"peak-rpm\" have more spread around the predicted line, and it is much harder to determine if the points are decreasing or increasing as the \"highway-mpg\" increases.</p>"
   ]
  },
  {
   "cell_type": "markdown",
   "metadata": {},
   "source": [
    "<div class=\"alert alert-danger alertdanger\" style=\"margin-top: 20px\">\n",
    "<h1>Question #3:</h1>\n",
    "<b>Given the regression plots above is \"peak-rpm\" or \"highway-mpg\" more strongly correlated with \"price\". Use the method  \".corr()\" to verify your answer.</b>\n",
    "</div>"
   ]
  },
  {
   "cell_type": "code",
   "execution_count": 31,
   "metadata": {},
   "outputs": [
    {
     "data": {
      "text/html": [
       "<div>\n",
       "<style scoped>\n",
       "    .dataframe tbody tr th:only-of-type {\n",
       "        vertical-align: middle;\n",
       "    }\n",
       "\n",
       "    .dataframe tbody tr th {\n",
       "        vertical-align: top;\n",
       "    }\n",
       "\n",
       "    .dataframe thead th {\n",
       "        text-align: right;\n",
       "    }\n",
       "</style>\n",
       "<table border=\"1\" class=\"dataframe\">\n",
       "  <thead>\n",
       "    <tr style=\"text-align: right;\">\n",
       "      <th></th>\n",
       "      <th>peak-rpm</th>\n",
       "      <th>highway-mpg</th>\n",
       "      <th>price</th>\n",
       "    </tr>\n",
       "  </thead>\n",
       "  <tbody>\n",
       "    <tr>\n",
       "      <th>peak-rpm</th>\n",
       "      <td>1.000000</td>\n",
       "      <td>-0.058598</td>\n",
       "      <td>-0.101616</td>\n",
       "    </tr>\n",
       "    <tr>\n",
       "      <th>highway-mpg</th>\n",
       "      <td>-0.058598</td>\n",
       "      <td>1.000000</td>\n",
       "      <td>-0.704692</td>\n",
       "    </tr>\n",
       "    <tr>\n",
       "      <th>price</th>\n",
       "      <td>-0.101616</td>\n",
       "      <td>-0.704692</td>\n",
       "      <td>1.000000</td>\n",
       "    </tr>\n",
       "  </tbody>\n",
       "</table>\n",
       "</div>"
      ],
      "text/plain": [
       "             peak-rpm  highway-mpg     price\n",
       "peak-rpm     1.000000    -0.058598 -0.101616\n",
       "highway-mpg -0.058598     1.000000 -0.704692\n",
       "price       -0.101616    -0.704692  1.000000"
      ]
     },
     "execution_count": 31,
     "metadata": {},
     "output_type": "execute_result"
    }
   ],
   "source": [
    "# Write your code below and press Shift+Enter to execute \n",
    "df[[\"peak-rpm\",\"highway-mpg\",\"price\"]].corr()"
   ]
  },
  {
   "cell_type": "markdown",
   "metadata": {},
   "source": [
    "Double-click <b>here</b> for the solution.\n",
    "\n",
    "<!-- The answer is below:\n",
    "\n",
    "The variable \"highway-mpg\" has a stronger correlation with \"price\", it is approximate -0.704692  compared to   \"peak-rpm\" which is approximate     -0.101616. You can verify it using the following command:\n",
    "df[[\"peak-rpm\",\"highway-mpg\",\"price\"]].corr()\n",
    "\n",
    "-->"
   ]
  },
  {
   "cell_type": "markdown",
   "metadata": {},
   "source": [
    "<h3>Residual Plot</h3>\n",
    "\n",
    "<p>A good way to visualize the variance of the data is to use a residual plot.</p>\n",
    "\n",
    "<p>What is a <b>residual</b>?</p>\n",
    "\n",
    "<p>The difference between the observed value (y) and the predicted value (Yhat) is called the residual (e). When we look at a regression plot, the residual is the distance from the data point to the fitted regression line.</p>\n",
    "\n",
    "<p>So what is a <b>residual plot</b>?</p>\n",
    "\n",
    "<p>A residual plot is a graph that shows the residuals on the vertical y-axis and the independent variable on the horizontal x-axis.</p>\n",
    "\n",
    "<p>What do we pay attention to when looking at a residual plot?</p>\n",
    "\n",
    "<p>We look at the spread of the residuals:</p>\n",
    "\n",
    "<p>- If the points in a residual plot are <b>randomly spread out around the x-axis</b>, then a <b>linear model is appropriate</b> for the data. Why is that? Randomly spread out residuals means that the variance is constant, and thus the linear model is a good fit for this data.</p>"
   ]
  },
  {
   "cell_type": "code",
   "execution_count": 32,
   "metadata": {
    "collapsed": false,
    "jupyter": {
     "outputs_hidden": false
    }
   },
   "outputs": [
    {
     "data": {
      "image/png": "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\n",
      "text/plain": [
       "<Figure size 864x720 with 1 Axes>"
      ]
     },
     "metadata": {
      "needs_background": "light"
     },
     "output_type": "display_data"
    }
   ],
   "source": [
    "width = 12\n",
    "height = 10\n",
    "plt.figure(figsize=(width, height))\n",
    "sns.residplot(df['highway-mpg'], df['price'])\n",
    "plt.show()"
   ]
  },
  {
   "cell_type": "markdown",
   "metadata": {},
   "source": [
    "<i>What is this plot telling us?</i>\n",
    "\n",
    "<p>We can see from this residual plot that the residuals are not randomly spread around the x-axis, which leads us to believe that maybe a non-linear model is more appropriate for this data.</p>"
   ]
  },
  {
   "cell_type": "markdown",
   "metadata": {},
   "source": [
    "<h3>Multiple Linear Regression</h3>"
   ]
  },
  {
   "cell_type": "markdown",
   "metadata": {},
   "source": [
    "<p>How do we visualize a model for Multiple Linear Regression? This gets a bit more complicated because you can't visualize it with regression or residual plot.</p>\n",
    "\n",
    "<p>One way to look at the fit of the model is by looking at the <b>distribution plot</b>: We can look at the distribution of the fitted values that result from the model and compare it to the distribution of the actual values.</p>"
   ]
  },
  {
   "cell_type": "markdown",
   "metadata": {},
   "source": [
    "First lets make a prediction "
   ]
  },
  {
   "cell_type": "code",
   "execution_count": 33,
   "metadata": {
    "collapsed": false,
    "jupyter": {
     "outputs_hidden": false
    }
   },
   "outputs": [],
   "source": [
    "Y_hat = lm.predict(Z)"
   ]
  },
  {
   "cell_type": "code",
   "execution_count": 34,
   "metadata": {
    "collapsed": false,
    "jupyter": {
     "outputs_hidden": false
    }
   },
   "outputs": [
    {
     "data": {
      "image/png": "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\n",
      "text/plain": [
       "<Figure size 864x720 with 1 Axes>"
      ]
     },
     "metadata": {
      "needs_background": "light"
     },
     "output_type": "display_data"
    }
   ],
   "source": [
    "plt.figure(figsize=(width, height))\n",
    "\n",
    "\n",
    "ax1 = sns.distplot(df['price'], hist=False, color=\"r\", label=\"Actual Value\")\n",
    "sns.distplot(Yhat, hist=False, color=\"b\", label=\"Fitted Values\" , ax=ax1)\n",
    "\n",
    "\n",
    "plt.title('Actual vs Fitted Values for Price')\n",
    "plt.xlabel('Price (in dollars)')\n",
    "plt.ylabel('Proportion of Cars')\n",
    "\n",
    "plt.show()\n",
    "plt.close()"
   ]
  },
  {
   "cell_type": "markdown",
   "metadata": {},
   "source": [
    "<p>We can see that the fitted values are reasonably close to the actual values, since the two distributions overlap a bit. However, there is definitely some room for improvement.</p>"
   ]
  },
  {
   "cell_type": "markdown",
   "metadata": {},
   "source": [
    "<h2>Part 3: Polynomial Regression and Pipelines</h2>"
   ]
  },
  {
   "cell_type": "markdown",
   "metadata": {},
   "source": [
    "<p><b>Polynomial regression</b> is a particular case of the general linear regression model or multiple linear regression models.</p> \n",
    "<p>We get non-linear relationships by squaring or setting higher-order terms of the predictor variables.</p>\n",
    "\n",
    "<p>There are different orders of polynomial regression:</p>"
   ]
  },
  {
   "cell_type": "markdown",
   "metadata": {},
   "source": [
    "<center><b>Quadratic - 2nd order</b></center>\n",
    "$$\n",
    "Yhat = a + b_1 X^2 +b_2 X^2 \n",
    "$$\n",
    "\n",
    "\n",
    "<center><b>Cubic - 3rd order</b></center>\n",
    "$$\n",
    "Yhat = a + b_1 X^2 +b_2 X^2 +b_3 X^3\\\\\n",
    "$$\n",
    "\n",
    "\n",
    "<center><b>Higher order</b>:</center>\n",
    "$$\n",
    "Y = a + b_1 X^2 +b_2 X^2 +b_3 X^3 ....\\\\\n",
    "$$"
   ]
  },
  {
   "cell_type": "markdown",
   "metadata": {},
   "source": [
    "<p>We saw earlier that a linear model did not provide the best fit while using highway-mpg as the predictor variable. Let's see if we can try fitting a polynomial model to the data instead.</p>"
   ]
  },
  {
   "cell_type": "markdown",
   "metadata": {},
   "source": [
    "<p>We will use the following function to plot the data:</p>"
   ]
  },
  {
   "cell_type": "code",
   "execution_count": 38,
   "metadata": {
    "collapsed": false,
    "jupyter": {
     "outputs_hidden": false
    }
   },
   "outputs": [],
   "source": [
    "def PlotPolly(model, independent_variable, dependent_variabble, Name):\n",
    "    x_new = np.linspace(15, 55, 100)\n",
    "    y_new = model(x_new)\n",
    "\n",
    "    plt.plot(independent_variable, dependent_variabble, '.', x_new, y_new, '-')\n",
    "    plt.title('Polynomial Fit with Matplotlib for Price ~ Length')\n",
    "    ax = plt.gca()\n",
    "    ax.set_facecolor((0.898, 0.898, 0.898))\n",
    "    fig = plt.gcf()\n",
    "    plt.xlabel(Name)\n",
    "    plt.ylabel('Price of Cars')\n",
    "\n",
    "    plt.show()\n",
    "    plt.close()"
   ]
  },
  {
   "cell_type": "markdown",
   "metadata": {},
   "source": [
    "lets get the variables"
   ]
  },
  {
   "cell_type": "code",
   "execution_count": null,
   "metadata": {
    "collapsed": false,
    "jupyter": {
     "outputs_hidden": false
    }
   },
   "outputs": [],
   "source": [
    "x = df['highway-mpg']\n",
    "y = df['price']"
   ]
  },
  {
   "cell_type": "markdown",
   "metadata": {},
   "source": [
    "Let's fit the polynomial using the function <b>polyfit</b>, then use the function <b>poly1d</b> to display the polynomial function."
   ]
  },
  {
   "cell_type": "code",
   "execution_count": 39,
   "metadata": {
    "collapsed": false,
    "jupyter": {
     "outputs_hidden": false
    }
   },
   "outputs": [
    {
     "name": "stdout",
     "output_type": "stream",
     "text": [
      "        3         2\n",
      "-1.557 x + 204.8 x - 8965 x + 1.379e+05\n"
     ]
    }
   ],
   "source": [
    "# Here we use a polynomial of the 3rd order (cubic) \n",
    "f = np.polyfit(x, y, 3)\n",
    "p = np.poly1d(f)\n",
    "print(p)"
   ]
  },
  {
   "cell_type": "markdown",
   "metadata": {},
   "source": [
    " Let's plot the function "
   ]
  },
  {
   "cell_type": "code",
   "execution_count": 40,
   "metadata": {
    "collapsed": false,
    "jupyter": {
     "outputs_hidden": false
    }
   },
   "outputs": [
    {
     "data": {
      "image/png": "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\n",
      "text/plain": [
       "<Figure size 432x288 with 1 Axes>"
      ]
     },
     "metadata": {
      "needs_background": "light"
     },
     "output_type": "display_data"
    }
   ],
   "source": [
    "PlotPolly(p, x, y, 'highway-mpg')"
   ]
  },
  {
   "cell_type": "code",
   "execution_count": 41,
   "metadata": {
    "collapsed": false,
    "jupyter": {
     "outputs_hidden": false
    }
   },
   "outputs": [
    {
     "data": {
      "text/plain": [
       "array([-1.55663829e+00,  2.04754306e+02, -8.96543312e+03,  1.37923594e+05])"
      ]
     },
     "execution_count": 41,
     "metadata": {},
     "output_type": "execute_result"
    }
   ],
   "source": [
    "np.polyfit(x, y, 3)"
   ]
  },
  {
   "cell_type": "markdown",
   "metadata": {},
   "source": [
    "<p>We can already see from plotting that this polynomial model performs better than the linear model. This is because the generated polynomial function  \"hits\" more of the data points.</p>"
   ]
  },
  {
   "cell_type": "markdown",
   "metadata": {},
   "source": [
    "<div class=\"alert alert-danger alertdanger\" style=\"margin-top: 20px\">\n",
    "<h1>Question  #4:</h1>\n",
    "<b>Create 11 order polynomial model with the variables x and y from above?</b>\n",
    "</div>"
   ]
  },
  {
   "cell_type": "code",
   "execution_count": 43,
   "metadata": {},
   "outputs": [
    {
     "name": "stdout",
     "output_type": "stream",
     "text": [
      "            11             10             9           8         7\n",
      "-1.243e-08 x  + 4.722e-06 x  - 0.0008028 x + 0.08056 x - 5.297 x\n",
      "          6        5             4             3             2\n",
      " + 239.5 x - 7588 x + 1.684e+05 x - 2.565e+06 x + 2.551e+07 x - 1.491e+08 x + 3.879e+08\n"
     ]
    },
    {
     "data": {
      "image/png": "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\n",
      "text/plain": [
       "<Figure size 432x288 with 1 Axes>"
      ]
     },
     "metadata": {
      "needs_background": "light"
     },
     "output_type": "display_data"
    }
   ],
   "source": [
    "# Write your code below and press Shift+Enter to execute \n",
    "f1 = np.polyfit(x, y, 11)\n",
    "p1= np.poly1d(f)\n",
    "print(p1)\n",
    "PlotPolly(p1,x,y, 'Highway MPG')"
   ]
  },
  {
   "cell_type": "markdown",
   "metadata": {},
   "source": [
    "Double-click <b>here</b> for the solution.\n",
    "\n",
    "<!-- The answer is below:\n",
    "\n",
    "# calculate polynomial\n",
    "# Here we use a polynomial of the 11rd order (cubic) \n",
    "f1 = np.polyfit(x, y, 11)\n",
    "p1 = np.poly1d(f1)\n",
    "print(p)\n",
    "PlotPolly(p1,x,y, 'Highway MPG')\n",
    "\n",
    "-->"
   ]
  },
  {
   "cell_type": "markdown",
   "metadata": {},
   "source": [
    "<p>The analytical expression for Multivariate Polynomial function gets complicated. For example, the expression for a second-order (degree=2)polynomial with two variables is given by:</p>"
   ]
  },
  {
   "cell_type": "markdown",
   "metadata": {},
   "source": [
    "$$\n",
    "Yhat = a + b_1 X_1 +b_2 X_2 +b_3 X_1 X_2+b_4 X_1^2+b_5 X_2^2\n",
    "$$"
   ]
  },
  {
   "cell_type": "markdown",
   "metadata": {},
   "source": [
    "We can perform a polynomial transform on multiple features. First, we import the module:"
   ]
  },
  {
   "cell_type": "code",
   "execution_count": 44,
   "metadata": {},
   "outputs": [],
   "source": [
    "from sklearn.preprocessing import PolynomialFeatures"
   ]
  },
  {
   "cell_type": "markdown",
   "metadata": {},
   "source": [
    "We create a <b>PolynomialFeatures</b> object of degree 2: "
   ]
  },
  {
   "cell_type": "code",
   "execution_count": 45,
   "metadata": {
    "collapsed": false,
    "jupyter": {
     "outputs_hidden": false
    }
   },
   "outputs": [
    {
     "data": {
      "text/plain": [
       "PolynomialFeatures(degree=2, include_bias=True, interaction_only=False)"
      ]
     },
     "execution_count": 45,
     "metadata": {},
     "output_type": "execute_result"
    }
   ],
   "source": [
    "pr=PolynomialFeatures(degree=2)\n",
    "pr"
   ]
  },
  {
   "cell_type": "code",
   "execution_count": 46,
   "metadata": {},
   "outputs": [],
   "source": [
    "Z_pr=pr.fit_transform(Z)"
   ]
  },
  {
   "cell_type": "markdown",
   "metadata": {},
   "source": [
    "The original data is of 201 samples and 4 features "
   ]
  },
  {
   "cell_type": "code",
   "execution_count": 47,
   "metadata": {
    "collapsed": false,
    "jupyter": {
     "outputs_hidden": false
    }
   },
   "outputs": [
    {
     "data": {
      "text/plain": [
       "(201, 4)"
      ]
     },
     "execution_count": 47,
     "metadata": {},
     "output_type": "execute_result"
    }
   ],
   "source": [
    "Z.shape"
   ]
  },
  {
   "cell_type": "markdown",
   "metadata": {},
   "source": [
    "after the transformation, there 201 samples and 15 features"
   ]
  },
  {
   "cell_type": "code",
   "execution_count": 48,
   "metadata": {
    "collapsed": false,
    "jupyter": {
     "outputs_hidden": false
    }
   },
   "outputs": [
    {
     "data": {
      "text/plain": [
       "(201, 15)"
      ]
     },
     "execution_count": 48,
     "metadata": {},
     "output_type": "execute_result"
    }
   ],
   "source": [
    "Z_pr.shape"
   ]
  },
  {
   "cell_type": "markdown",
   "metadata": {},
   "source": [
    "<h2>Pipeline</h2>"
   ]
  },
  {
   "cell_type": "markdown",
   "metadata": {},
   "source": [
    "<p>Data Pipelines simplify the steps of processing the data. We use the module <b>Pipeline</b> to create a pipeline. We also use <b>StandardScaler</b> as a step in our pipeline.</p>"
   ]
  },
  {
   "cell_type": "code",
   "execution_count": 49,
   "metadata": {},
   "outputs": [],
   "source": [
    "from sklearn.pipeline import Pipeline\n",
    "from sklearn.preprocessing import StandardScaler"
   ]
  },
  {
   "cell_type": "markdown",
   "metadata": {},
   "source": [
    "We create the pipeline, by creating a list of tuples including the name of the model or estimator and its corresponding constructor."
   ]
  },
  {
   "cell_type": "code",
   "execution_count": 50,
   "metadata": {
    "collapsed": false,
    "jupyter": {
     "outputs_hidden": false
    }
   },
   "outputs": [],
   "source": [
    "Input=[('scale',StandardScaler()), ('polynomial', PolynomialFeatures(include_bias=False)), ('model',LinearRegression())]"
   ]
  },
  {
   "cell_type": "markdown",
   "metadata": {},
   "source": [
    "we input the list as an argument to the pipeline constructor "
   ]
  },
  {
   "cell_type": "code",
   "execution_count": 52,
   "metadata": {
    "collapsed": false,
    "jupyter": {
     "outputs_hidden": false
    }
   },
   "outputs": [
    {
     "data": {
      "text/plain": [
       "Pipeline(memory=None,\n",
       "     steps=[('scale', StandardScaler(copy=True, with_mean=True, with_std=True)), ('polynomial', PolynomialFeatures(degree=2, include_bias=False, interaction_only=False)), ('model', LinearRegression(copy_X=True, fit_intercept=True, n_jobs=None,\n",
       "         normalize=False))])"
      ]
     },
     "execution_count": 52,
     "metadata": {},
     "output_type": "execute_result"
    }
   ],
   "source": [
    "pipe=Pipeline(Input)\n",
    "pipe"
   ]
  },
  {
   "cell_type": "markdown",
   "metadata": {},
   "source": [
    "We can normalize the data,  perform a transform and fit the model simultaneously. "
   ]
  },
  {
   "cell_type": "code",
   "execution_count": 53,
   "metadata": {
    "collapsed": false,
    "jupyter": {
     "outputs_hidden": false
    }
   },
   "outputs": [
    {
     "name": "stderr",
     "output_type": "stream",
     "text": [
      "/home/jupyterlab/conda/envs/python/lib/python3.6/site-packages/sklearn/preprocessing/data.py:625: DataConversionWarning: Data with input dtype int64, float64 were all converted to float64 by StandardScaler.\n",
      "  return self.partial_fit(X, y)\n",
      "/home/jupyterlab/conda/envs/python/lib/python3.6/site-packages/sklearn/base.py:465: DataConversionWarning: Data with input dtype int64, float64 were all converted to float64 by StandardScaler.\n",
      "  return self.fit(X, y, **fit_params).transform(X)\n"
     ]
    },
    {
     "data": {
      "text/plain": [
       "Pipeline(memory=None,\n",
       "     steps=[('scale', StandardScaler(copy=True, with_mean=True, with_std=True)), ('polynomial', PolynomialFeatures(degree=2, include_bias=False, interaction_only=False)), ('model', LinearRegression(copy_X=True, fit_intercept=True, n_jobs=None,\n",
       "         normalize=False))])"
      ]
     },
     "execution_count": 53,
     "metadata": {},
     "output_type": "execute_result"
    }
   ],
   "source": [
    "pipe.fit(Z,y)"
   ]
  },
  {
   "cell_type": "markdown",
   "metadata": {},
   "source": [
    " Similarly,  we can normalize the data, perform a transform and produce a prediction  simultaneously"
   ]
  },
  {
   "cell_type": "code",
   "execution_count": 54,
   "metadata": {
    "collapsed": false,
    "jupyter": {
     "outputs_hidden": false
    }
   },
   "outputs": [
    {
     "name": "stderr",
     "output_type": "stream",
     "text": [
      "/home/jupyterlab/conda/envs/python/lib/python3.6/site-packages/sklearn/pipeline.py:331: DataConversionWarning: Data with input dtype int64, float64 were all converted to float64 by StandardScaler.\n",
      "  Xt = transform.transform(Xt)\n"
     ]
    },
    {
     "data": {
      "text/plain": [
       "array([13102.74784201, 13102.74784201, 18225.54572197, 10390.29636555])"
      ]
     },
     "execution_count": 54,
     "metadata": {},
     "output_type": "execute_result"
    }
   ],
   "source": [
    "ypipe=pipe.predict(Z)\n",
    "ypipe[0:4]"
   ]
  },
  {
   "cell_type": "markdown",
   "metadata": {},
   "source": [
    "<div class=\"alert alert-danger alertdanger\" style=\"margin-top: 20px\">\n",
    "<h1>Question #5:</h1>\n",
    "<b>Create a pipeline that Standardizes the data, then perform prediction using a linear regression model using the features Z and targets y</b>\n",
    "</div>"
   ]
  },
  {
   "cell_type": "code",
   "execution_count": 55,
   "metadata": {},
   "outputs": [
    {
     "name": "stderr",
     "output_type": "stream",
     "text": [
      "/home/jupyterlab/conda/envs/python/lib/python3.6/site-packages/sklearn/preprocessing/data.py:625: DataConversionWarning: Data with input dtype int64, float64 were all converted to float64 by StandardScaler.\n",
      "  return self.partial_fit(X, y)\n",
      "/home/jupyterlab/conda/envs/python/lib/python3.6/site-packages/sklearn/base.py:465: DataConversionWarning: Data with input dtype int64, float64 were all converted to float64 by StandardScaler.\n",
      "  return self.fit(X, y, **fit_params).transform(X)\n",
      "/home/jupyterlab/conda/envs/python/lib/python3.6/site-packages/sklearn/pipeline.py:331: DataConversionWarning: Data with input dtype int64, float64 were all converted to float64 by StandardScaler.\n",
      "  Xt = transform.transform(Xt)\n"
     ]
    },
    {
     "data": {
      "text/plain": [
       "array([13699.11161184, 13699.11161184, 19051.65470233, 10620.36193015,\n",
       "       15521.31420211, 13869.66673213, 15456.16196732, 15974.00907672,\n",
       "       17612.35917161, 10722.32509097])"
      ]
     },
     "execution_count": 55,
     "metadata": {},
     "output_type": "execute_result"
    }
   ],
   "source": [
    "# Write your code below and press Shift+Enter to execute \n",
    "Input=[('scale',StandardScaler()),('model',LinearRegression())]\n",
    "\n",
    "pipe1=Pipeline(Input)\n",
    "\n",
    "pipe1.fit(Z,y)\n",
    "\n",
    "ypipe=pipe1.predict(Z)\n",
    "ypipe[0:10]"
   ]
  },
  {
   "cell_type": "markdown",
   "metadata": {},
   "source": [
    "</div>\n",
    "Double-click <b>here</b> for the solution.\n",
    "\n",
    "<!-- The answer is below:\n",
    "\n",
    "Input=[('scale',StandardScaler()),('model',LinearRegression())]\n",
    "\n",
    "pipe=Pipeline(Input)\n",
    "\n",
    "pipe.fit(Z,y)\n",
    "\n",
    "ypipe=pipe.predict(Z)\n",
    "ypipe[0:10]\n",
    "\n",
    "-->"
   ]
  },
  {
   "cell_type": "markdown",
   "metadata": {},
   "source": [
    "<h2>Part 4: Measures for In-Sample Evaluation</h2>"
   ]
  },
  {
   "cell_type": "markdown",
   "metadata": {},
   "source": [
    "<p>When evaluating our models, not only do we want to visualize the results, but we also want a quantitative measure to determine how accurate the model is.</p>\n",
    "\n",
    "<p>Two very important measures that are often used in Statistics to determine the accuracy of a model are:</p>\n",
    "<ul>\n",
    "    <li><b>R^2 / R-squared</b></li>\n",
    "    <li><b>Mean Squared Error (MSE)</b></li>\n",
    "</ul>\n",
    "    \n",
    "<b>R-squared</b>\n",
    "\n",
    "<p>R squared, also known as the coefficient of determination, is a measure to indicate how close the data is to the fitted regression line.</p>\n",
    "    \n",
    "<p>The value of the R-squared is the percentage of variation of the response variable (y) that is explained by a linear model.</p>\n",
    "\n",
    "\n",
    "\n",
    "<b>Mean Squared Error (MSE)</b>\n",
    "\n",
    "<p>The Mean Squared Error measures the average of the squares of errors, that is, the difference between actual value (y) and the estimated value (ŷ).</p>"
   ]
  },
  {
   "cell_type": "markdown",
   "metadata": {},
   "source": [
    "<h3>Model 1: Simple Linear Regression</h3>"
   ]
  },
  {
   "cell_type": "markdown",
   "metadata": {},
   "source": [
    "Let's calculate the R^2"
   ]
  },
  {
   "cell_type": "code",
   "execution_count": 56,
   "metadata": {
    "collapsed": false,
    "jupyter": {
     "outputs_hidden": false
    },
    "scrolled": true
   },
   "outputs": [
    {
     "name": "stdout",
     "output_type": "stream",
     "text": [
      "The R-square is:  0.7609686443622008\n"
     ]
    }
   ],
   "source": [
    "#highway_mpg_fit\n",
    "lm.fit(X, Y)\n",
    "# Find the R^2\n",
    "print('The R-square is: ', lm.score(X, Y))"
   ]
  },
  {
   "cell_type": "markdown",
   "metadata": {},
   "source": [
    "We can say that ~ 49.659% of the variation of the price is explained by this simple linear model \"horsepower_fit\"."
   ]
  },
  {
   "cell_type": "markdown",
   "metadata": {},
   "source": [
    "Let's calculate the MSE"
   ]
  },
  {
   "cell_type": "markdown",
   "metadata": {},
   "source": [
    "We can predict the output i.e., \"yhat\" using the predict method, where X is the input variable:"
   ]
  },
  {
   "cell_type": "code",
   "execution_count": 57,
   "metadata": {
    "collapsed": false,
    "jupyter": {
     "outputs_hidden": false
    }
   },
   "outputs": [
    {
     "name": "stdout",
     "output_type": "stream",
     "text": [
      "The output of the first four predicted value is:  [13728.4631336  13728.4631336  17399.38347881 10224.40280408]\n"
     ]
    }
   ],
   "source": [
    "Yhat=lm.predict(X)\n",
    "print('The output of the first four predicted value is: ', Yhat[0:4])"
   ]
  },
  {
   "cell_type": "markdown",
   "metadata": {},
   "source": [
    "lets import the function <b>mean_squared_error</b> from the module <b>metrics</b>"
   ]
  },
  {
   "cell_type": "code",
   "execution_count": 58,
   "metadata": {},
   "outputs": [],
   "source": [
    "from sklearn.metrics import mean_squared_error"
   ]
  },
  {
   "cell_type": "markdown",
   "metadata": {},
   "source": [
    "we compare the predicted results with the actual results "
   ]
  },
  {
   "cell_type": "code",
   "execution_count": 59,
   "metadata": {
    "collapsed": false,
    "jupyter": {
     "outputs_hidden": false
    }
   },
   "outputs": [
    {
     "name": "stdout",
     "output_type": "stream",
     "text": [
      "The mean square error of price and predicted value is:  15021126.025174143\n"
     ]
    }
   ],
   "source": [
    "mse = mean_squared_error(df['price'], Yhat)\n",
    "print('The mean square error of price and predicted value is: ', mse)"
   ]
  },
  {
   "cell_type": "markdown",
   "metadata": {},
   "source": [
    "<h3>Model 2: Multiple Linear Regression</h3>"
   ]
  },
  {
   "cell_type": "markdown",
   "metadata": {},
   "source": [
    "Let's calculate the R^2"
   ]
  },
  {
   "cell_type": "code",
   "execution_count": 60,
   "metadata": {
    "collapsed": false,
    "jupyter": {
     "outputs_hidden": false
    }
   },
   "outputs": [
    {
     "name": "stdout",
     "output_type": "stream",
     "text": [
      "The R-square is:  0.8093562806577457\n"
     ]
    }
   ],
   "source": [
    "# fit the model \n",
    "lm.fit(Z, df['price'])\n",
    "# Find the R^2\n",
    "print('The R-square is: ', lm.score(Z, df['price']))"
   ]
  },
  {
   "cell_type": "markdown",
   "metadata": {},
   "source": [
    "We can say that ~ 80.896 % of the variation of price is explained by this multiple linear regression \"multi_fit\"."
   ]
  },
  {
   "cell_type": "markdown",
   "metadata": {},
   "source": [
    "Let's calculate the MSE"
   ]
  },
  {
   "cell_type": "markdown",
   "metadata": {},
   "source": [
    " we produce a prediction "
   ]
  },
  {
   "cell_type": "code",
   "execution_count": 61,
   "metadata": {
    "collapsed": false,
    "jupyter": {
     "outputs_hidden": false
    }
   },
   "outputs": [],
   "source": [
    "Y_predict_multifit = lm.predict(Z)"
   ]
  },
  {
   "cell_type": "markdown",
   "metadata": {},
   "source": [
    " we compare the predicted results with the actual results "
   ]
  },
  {
   "cell_type": "code",
   "execution_count": 62,
   "metadata": {
    "collapsed": false,
    "jupyter": {
     "outputs_hidden": false
    }
   },
   "outputs": [
    {
     "name": "stdout",
     "output_type": "stream",
     "text": [
      "The mean square error of price and predicted value using multifit is:  11980366.87072649\n"
     ]
    }
   ],
   "source": [
    "print('The mean square error of price and predicted value using multifit is: ', \\\n",
    "      mean_squared_error(df['price'], Y_predict_multifit))"
   ]
  },
  {
   "cell_type": "markdown",
   "metadata": {},
   "source": [
    "<h3>Model 3: Polynomial Fit</h3>"
   ]
  },
  {
   "cell_type": "markdown",
   "metadata": {},
   "source": [
    "Let's calculate the R^2"
   ]
  },
  {
   "cell_type": "markdown",
   "metadata": {},
   "source": [
    "let’s import the function <b>r2_score</b> from the module <b>metrics</b> as we are using a different function"
   ]
  },
  {
   "cell_type": "code",
   "execution_count": 63,
   "metadata": {},
   "outputs": [],
   "source": [
    "from sklearn.metrics import r2_score"
   ]
  },
  {
   "cell_type": "markdown",
   "metadata": {},
   "source": [
    "We apply the function to get the value of r^2"
   ]
  },
  {
   "cell_type": "code",
   "execution_count": 64,
   "metadata": {
    "collapsed": false,
    "jupyter": {
     "outputs_hidden": false
    }
   },
   "outputs": [
    {
     "name": "stdout",
     "output_type": "stream",
     "text": [
      "The R-square value is:  0.674194666390652\n"
     ]
    }
   ],
   "source": [
    "r_squared = r2_score(y, p(x))\n",
    "print('The R-square value is: ', r_squared)"
   ]
  },
  {
   "cell_type": "markdown",
   "metadata": {},
   "source": [
    "We can say that ~ 67.419 % of the variation of price is explained by this polynomial fit"
   ]
  },
  {
   "cell_type": "markdown",
   "metadata": {},
   "source": [
    "<h3>MSE</h3>"
   ]
  },
  {
   "cell_type": "markdown",
   "metadata": {},
   "source": [
    "We can also calculate the MSE:  "
   ]
  },
  {
   "cell_type": "code",
   "execution_count": 65,
   "metadata": {
    "collapsed": false,
    "jupyter": {
     "outputs_hidden": false
    }
   },
   "outputs": [
    {
     "data": {
      "text/plain": [
       "20474146.426361218"
      ]
     },
     "execution_count": 65,
     "metadata": {},
     "output_type": "execute_result"
    }
   ],
   "source": [
    "mean_squared_error(df['price'], p(x))"
   ]
  },
  {
   "cell_type": "markdown",
   "metadata": {},
   "source": [
    "<h2>Part 5: Prediction and Decision Making</h2>\n",
    "<h3>Prediction</h3>\n",
    "\n",
    "<p>In the previous section, we trained the model using the method <b>fit</b>. Now we will use the method <b>predict</b> to produce a prediction. Lets import <b>pyplot</b> for plotting; we will also be using some functions from numpy.</p>"
   ]
  },
  {
   "cell_type": "code",
   "execution_count": 66,
   "metadata": {},
   "outputs": [],
   "source": [
    "import matplotlib.pyplot as plt\n",
    "import numpy as np\n",
    "\n",
    "%matplotlib inline "
   ]
  },
  {
   "cell_type": "markdown",
   "metadata": {},
   "source": [
    "Create a new input "
   ]
  },
  {
   "cell_type": "code",
   "execution_count": 67,
   "metadata": {
    "collapsed": false,
    "jupyter": {
     "outputs_hidden": false
    }
   },
   "outputs": [],
   "source": [
    "new_input=np.arange(1, 100, 1).reshape(-1, 1)"
   ]
  },
  {
   "cell_type": "markdown",
   "metadata": {},
   "source": [
    " Fit the model "
   ]
  },
  {
   "cell_type": "code",
   "execution_count": 68,
   "metadata": {
    "collapsed": false,
    "jupyter": {
     "outputs_hidden": false
    }
   },
   "outputs": [
    {
     "data": {
      "text/plain": [
       "LinearRegression(copy_X=True, fit_intercept=True, n_jobs=None,\n",
       "         normalize=False)"
      ]
     },
     "execution_count": 68,
     "metadata": {},
     "output_type": "execute_result"
    }
   ],
   "source": [
    "lm.fit(X, Y)\n",
    "lm"
   ]
  },
  {
   "cell_type": "markdown",
   "metadata": {},
   "source": [
    "Produce a prediction"
   ]
  },
  {
   "cell_type": "code",
   "execution_count": 69,
   "metadata": {
    "collapsed": false,
    "jupyter": {
     "outputs_hidden": false
    }
   },
   "outputs": [
    {
     "data": {
      "text/plain": [
       "array([-7796.47889059, -7629.6188749 , -7462.75885921, -7295.89884352,\n",
       "       -7129.03882782])"
      ]
     },
     "execution_count": 69,
     "metadata": {},
     "output_type": "execute_result"
    }
   ],
   "source": [
    "yhat=lm.predict(new_input)\n",
    "yhat[0:5]"
   ]
  },
  {
   "cell_type": "markdown",
   "metadata": {},
   "source": [
    "we can plot the data "
   ]
  },
  {
   "cell_type": "code",
   "execution_count": 70,
   "metadata": {
    "collapsed": false,
    "jupyter": {
     "outputs_hidden": false
    }
   },
   "outputs": [
    {
     "data": {
      "image/png": "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\n",
      "text/plain": [
       "<Figure size 432x288 with 1 Axes>"
      ]
     },
     "metadata": {
      "needs_background": "light"
     },
     "output_type": "display_data"
    }
   ],
   "source": [
    "plt.plot(new_input, yhat)\n",
    "plt.show()"
   ]
  },
  {
   "cell_type": "markdown",
   "metadata": {},
   "source": [
    "<h3>Decision Making: Determining a Good Model Fit</h3>"
   ]
  },
  {
   "cell_type": "markdown",
   "metadata": {},
   "source": [
    "<p>Now that we have visualized the different models, and generated the R-squared and MSE values for the fits, how do we determine a good model fit?\n",
    "<ul>\n",
    "    <li><i>What is a good R-squared value?</i></li>\n",
    "</ul>\n",
    "</p>\n",
    "\n",
    "<p>When comparing models, <b>the model with the higher R-squared value is a better fit</b> for the data.\n",
    "<ul>\n",
    "    <li><i>What is a good MSE?</i></li>\n",
    "</ul>\n",
    "</p>\n",
    "\n",
    "<p>When comparing models, <b>the model with the smallest MSE value is a better fit</b> for the data.</p>\n",
    "\n",
    "\n",
    "<h4>Let's take a look at the values for the different models.</h4>\n",
    "<p>Simple Linear Regression: Using Highway-mpg as a Predictor Variable of Price.\n",
    "<ul>\n",
    "    <li>R-squared: 0.49659118843391759</li>\n",
    "    <li>MSE: 3.16 x10^7</li>\n",
    "</ul>\n",
    "</p>\n",
    "    \n",
    "<p>Multiple Linear Regression: Using Horsepower, Curb-weight, Engine-size, and Highway-mpg as Predictor Variables of Price.\n",
    "<ul>\n",
    "    <li>R-squared: 0.80896354913783497</li>\n",
    "    <li>MSE: 1.2 x10^7</li>\n",
    "</ul>\n",
    "</p>\n",
    "    \n",
    "<p>Polynomial Fit: Using Highway-mpg as a Predictor Variable of Price.\n",
    "<ul>\n",
    "    <li>R-squared: 0.6741946663906514</li>\n",
    "    <li>MSE: 2.05 x 10^7</li>\n",
    "</ul>\n",
    "</p>"
   ]
  },
  {
   "cell_type": "markdown",
   "metadata": {},
   "source": [
    "<h3>Simple Linear Regression model (SLR) vs Multiple Linear Regression model (MLR)</h3>"
   ]
  },
  {
   "cell_type": "markdown",
   "metadata": {},
   "source": [
    "<p>Usually, the more variables you have, the better your model is at predicting, but this is not always true. Sometimes you may not have enough data, you may run into numerical problems, or many of the variables may not be useful and or even act as noise. As a result, you should always check the MSE and R^2.</p>\n",
    "\n",
    "<p>So to be able to compare the results of the MLR vs SLR models, we look at a combination of both the R-squared and MSE to make the best conclusion about the fit of the model.\n",
    "<ul>\n",
    "    <li><b>MSE</b>The MSE of SLR is  3.16x10^7  while MLR has an MSE of 1.2 x10^7.  The MSE of MLR is much smaller.</li>\n",
    "    <li><b>R-squared</b>: In this case, we can also see that there is a big difference between the R-squared of the SLR and the R-squared of the MLR. The R-squared for the SLR (~0.497) is very small compared to the R-squared for the MLR (~0.809).</li>\n",
    "</ul>\n",
    "</p>\n",
    "\n",
    "This R-squared in combination with the MSE show that MLR seems like the better model fit in this case, compared to SLR."
   ]
  },
  {
   "cell_type": "markdown",
   "metadata": {},
   "source": [
    "<h3>Simple Linear Model (SLR) vs Polynomial Fit</h3>"
   ]
  },
  {
   "cell_type": "markdown",
   "metadata": {},
   "source": [
    "<ul>\n",
    "    <li><b>MSE</b>: We can see that Polynomial Fit brought down the MSE, since this MSE is smaller than the one from the SLR.</li> \n",
    "    <li><b>R-squared</b>: The R-squared for the Polyfit is larger than the R-squared for the SLR, so the Polynomial Fit also brought up the R-squared quite a bit.</li>\n",
    "</ul>\n",
    "<p>Since the Polynomial Fit resulted in a lower MSE and a higher R-squared, we can conclude that this was a better fit model than the simple linear regression for predicting Price with Highway-mpg as a predictor variable.</p>"
   ]
  },
  {
   "cell_type": "markdown",
   "metadata": {},
   "source": [
    "<h3>Multiple Linear Regression (MLR) vs Polynomial Fit</h3>"
   ]
  },
  {
   "cell_type": "markdown",
   "metadata": {},
   "source": [
    "<ul>\n",
    "    <li><b>MSE</b>: The MSE for the MLR is smaller than the MSE for the Polynomial Fit.</li>\n",
    "    <li><b>R-squared</b>: The R-squared for the MLR is also much larger than for the Polynomial Fit.</li>\n",
    "</ul>"
   ]
  },
  {
   "cell_type": "markdown",
   "metadata": {},
   "source": [
    "<h2>Conclusion:</h2>"
   ]
  },
  {
   "cell_type": "markdown",
   "metadata": {},
   "source": [
    "<p>Comparing these three models, we conclude that <b>the MLR model is the best model</b> to be able to predict price from our dataset. This result makes sense, since we have 27 variables in total, and we know that more than one of those variables are potential predictors of the final car price.</p>"
   ]
  },
  {
   "cell_type": "markdown",
   "metadata": {},
   "source": [
    "<h1>Thank you for completing this notebook</h1>"
   ]
  },
  {
   "cell_type": "markdown",
   "metadata": {},
   "source": [
    "<div class=\"alert alert-block alert-info\" style=\"margin-top: 20px\">\n",
    "\n",
    "    <p><a href=\"https://cocl.us/corsera_da0101en_notebook_bottom\"><img src=\"https://s3-api.us-geo.objectstorage.softlayer.net/cf-courses-data/CognitiveClass/DA0101EN/Images/BottomAd.png\" width=\"750\" align=\"center\"></a></p>\n",
    "</div>\n"
   ]
  },
  {
   "cell_type": "markdown",
   "metadata": {},
   "source": [
    "<h3>About the Authors:</h3>\n",
    "\n",
    "This notebook was written by <a href=\"https://www.linkedin.com/in/mahdi-noorian-58219234/\" target=\"_blank\">Mahdi Noorian PhD</a>, <a href=\"https://www.linkedin.com/in/joseph-s-50398b136/\" target=\"_blank\">Joseph Santarcangelo</a>, Bahare Talayian, Eric Xiao, Steven Dong, Parizad, Hima Vsudevan and <a href=\"https://www.linkedin.com/in/fiorellawever/\" target=\"_blank\">Fiorella Wenver</a> and <a href=\" https://www.linkedin.com/in/yi-leng-yao-84451275/ \" target=\"_blank\" >Yi Yao</a>.\n",
    "\n",
    "<p><a href=\"https://www.linkedin.com/in/joseph-s-50398b136/\" target=\"_blank\">Joseph Santarcangelo</a> is a Data Scientist at IBM, and holds a PhD in Electrical Engineering. His research focused on using Machine Learning, Signal Processing, and Computer Vision to determine how videos impact human cognition. Joseph has been working for IBM since he completed his PhD.</p>"
   ]
  },
  {
   "cell_type": "markdown",
   "metadata": {},
   "source": [
    "<hr>\n",
    "<p>Copyright &copy; 2018 IBM Developer Skills Network. This notebook and its source code are released under the terms of the <a href=\"https://cognitiveclass.ai/mit-license/\">MIT License</a>.</p>"
   ]
  }
 ],
 "metadata": {
  "kernelspec": {
   "display_name": "Python",
   "language": "python",
   "name": "conda-env-python-py"
  },
  "language_info": {
   "codemirror_mode": {
    "name": "ipython",
    "version": 3
   },
   "file_extension": ".py",
   "mimetype": "text/x-python",
   "name": "python",
   "nbconvert_exporter": "python",
   "pygments_lexer": "ipython3",
   "version": "3.6.10"
  }
 },
 "nbformat": 4,
 "nbformat_minor": 4
}
